{
 "cells": [
  {
   "cell_type": "markdown",
   "metadata": {},
   "source": [
    "## Importing packages"
   ]
  },
  {
   "cell_type": "code",
   "execution_count": 1,
   "metadata": {},
   "outputs": [],
   "source": [
    "import pandas as pd\n",
    "import numpy as np\n",
    "import matplotlib.pyplot as plt\n",
    "import seaborn as sns\n",
    "import math "
   ]
  },
  {
   "cell_type": "code",
   "execution_count": 3,
   "metadata": {},
   "outputs": [
    {
     "name": "stdout",
     "output_type": "stream",
     "text": [
      "Hello World Again\n"
     ]
    }
   ],
   "source": [
    "print(\"Hello World Again\")"
   ]
  },
  {
   "cell_type": "markdown",
   "metadata": {},
   "source": [
    "## Reading the data from the data source"
   ]
  },
  {
   "cell_type": "code",
   "execution_count": 2,
   "metadata": {},
   "outputs": [],
   "source": [
    "df_dict = pd.read_excel('https://cdn.upgrad.com/UpGrad/temp/af860da6-f838-47d6-ad97-551022550ee4/Data_Dictionary.xlsx')"
   ]
  },
  {
   "cell_type": "code",
   "execution_count": 3,
   "metadata": {
    "scrolled": true
   },
   "outputs": [],
   "source": [
    "rows = df_dict.head().loc[0,'Description']"
   ]
  },
  {
   "cell_type": "code",
   "execution_count": 4,
   "metadata": {},
   "outputs": [
    {
     "name": "stderr",
     "output_type": "stream",
     "text": [
      "C:\\ProgramData\\Anaconda3\\lib\\site-packages\\IPython\\core\\interactiveshell.py:3071: DtypeWarning: Columns (47) have mixed types.Specify dtype option on import or set low_memory=False.\n",
      "  has_raised = await self.run_ast_nodes(code_ast.body, cell_name,\n"
     ]
    },
    {
     "data": {
      "text/plain": [
       "(39717, 111)"
      ]
     },
     "execution_count": 4,
     "metadata": {},
     "output_type": "execute_result"
    }
   ],
   "source": [
    "df_loan = pd.read_csv('../loan.csv')\n",
    "\n",
    "df_loan.shape"
   ]
  },
  {
   "cell_type": "code",
   "execution_count": 5,
   "metadata": {},
   "outputs": [],
   "source": [
    "ser_cols = df_loan.isnull().sum()\n"
   ]
  },
  {
   "cell_type": "markdown",
   "metadata": {},
   "source": [
    "## Droping the unwanted columns\n",
    "\n",
    "##### The columns that have more than 90% of null values are dropped"
   ]
  },
  {
   "cell_type": "code",
   "execution_count": 6,
   "metadata": {},
   "outputs": [],
   "source": [
    "max_nulls = int(df_loan.shape[0]*0.9)\n",
    "for column in ser_cols.index:\n",
    "    if(df_loan[column].isnull().sum() > max_nulls):\n",
    "        df_loan.drop([column], inplace = True, axis= 'columns')"
   ]
  },
  {
   "cell_type": "code",
   "execution_count": 7,
   "metadata": {},
   "outputs": [],
   "source": [
    "df_loan.to_csv(\"Test.csv\")"
   ]
  },
  {
   "cell_type": "code",
   "execution_count": 8,
   "metadata": {},
   "outputs": [
    {
     "data": {
      "text/plain": [
       "Index(['id', 'member_id', 'loan_amnt', 'funded_amnt', 'funded_amnt_inv',\n",
       "       'term', 'int_rate', 'installment', 'grade', 'sub_grade', 'emp_title',\n",
       "       'emp_length', 'home_ownership', 'annual_inc', 'verification_status',\n",
       "       'issue_d', 'loan_status', 'pymnt_plan', 'url', 'desc', 'purpose',\n",
       "       'title', 'zip_code', 'addr_state', 'dti', 'delinq_2yrs',\n",
       "       'earliest_cr_line', 'inq_last_6mths', 'mths_since_last_delinq',\n",
       "       'open_acc', 'pub_rec', 'revol_bal', 'revol_util', 'total_acc',\n",
       "       'initial_list_status', 'out_prncp', 'out_prncp_inv', 'total_pymnt',\n",
       "       'total_pymnt_inv', 'total_rec_prncp', 'total_rec_int',\n",
       "       'total_rec_late_fee', 'recoveries', 'collection_recovery_fee',\n",
       "       'last_pymnt_d', 'last_pymnt_amnt', 'last_credit_pull_d',\n",
       "       'collections_12_mths_ex_med', 'policy_code', 'application_type',\n",
       "       'acc_now_delinq', 'chargeoff_within_12_mths', 'delinq_amnt',\n",
       "       'pub_rec_bankruptcies', 'tax_liens'],\n",
       "      dtype='object')"
      ]
     },
     "execution_count": 8,
     "metadata": {},
     "output_type": "execute_result"
    }
   ],
   "source": [
    "df_loan.columns"
   ]
  },
  {
   "cell_type": "markdown",
   "metadata": {},
   "source": [
    "# Lets clean the years of employment and refine the data type to int or a float"
   ]
  },
  {
   "cell_type": "code",
   "execution_count": 9,
   "metadata": {},
   "outputs": [
    {
     "data": {
      "text/plain": [
       "Fully Paid     18382\n",
       "Charged Off     3182\n",
       "Current          772\n",
       "Name: loan_status, dtype: int64"
      ]
     },
     "execution_count": 9,
     "metadata": {},
     "output_type": "execute_result"
    }
   ],
   "source": [
    "\n",
    "df_loan['emp_length'] = df_loan['emp_length'].apply(lambda x: str(x))\n",
    "df_loan['emp_length'] = df_loan['emp_length'].apply(lambda x: x.replace('years',\"\"))\n",
    "df_loan['emp_length'] = df_loan['emp_length'].apply(lambda x: x.replace('year',\"\"))\n",
    "df_loan['emp_length'] = df_loan['emp_length'].apply(lambda x: x.replace('+',\"\"))\n",
    "df_loan['emp_length'] = df_loan['emp_length'].apply(lambda x: x.replace(' ',\"\"))\n",
    "df_loan['emp_length'] = df_loan['emp_length'].apply(lambda x: x.replace('<',\"\"))\n",
    "df_loan['emp_length'] = df_loan['emp_length'].apply(lambda x: float(x))\n",
    "mrv =  df_loan['emp_length'].median()\n",
    "df_loan[df_loan['emp_length'] >= mrv]['loan_status'].value_counts()"
   ]
  },
  {
   "cell_type": "markdown",
   "metadata": {},
   "source": [
    "## Lets Clean the Intrest Rate column from the data set\n",
    "\n",
    "<h3>The column is string we have to change it to float i.e <u>Numeric</u></h3>"
   ]
  },
  {
   "cell_type": "code",
   "execution_count": 10,
   "metadata": {},
   "outputs": [],
   "source": [
    "df_loan[\"int_rate\"] = df_loan['int_rate'].apply(lambda p: p.replace('%',''))\n",
    "df_loan[\"int_rate\"] = df_loan['int_rate'].apply(lambda p: float(p))"
   ]
  },
  {
   "cell_type": "code",
   "execution_count": 11,
   "metadata": {},
   "outputs": [],
   "source": [
    "df_loan['RevolBalToAnnualInc'] = df_loan['revol_bal']/df_loan['annual_inc']"
   ]
  },
  {
   "cell_type": "code",
   "execution_count": 12,
   "metadata": {},
   "outputs": [
    {
     "data": {
      "text/plain": [
       "8850.0"
      ]
     },
     "execution_count": 12,
     "metadata": {},
     "output_type": "execute_result"
    }
   ],
   "source": [
    "df_loan['revol_bal'].median()"
   ]
  },
  {
   "cell_type": "markdown",
   "metadata": {},
   "source": [
    "## Lets filter out the non defaulters.\n",
    "\n",
    "### The data set will only have charged off people as we want to examine the behavior of defaulters\n",
    "\n",
    "#### We have 2 sets of data one containing defaulters and other set has no defaulters"
   ]
  },
  {
   "cell_type": "code",
   "execution_count": 13,
   "metadata": {},
   "outputs": [],
   "source": [
    "df_loan_defaulters =  df_loan[df_loan[\"loan_status\"] == \"Charged Off\"]\n",
    "df_loan_non_defaulters = df_loan[~(df_loan[\"loan_status\"] == \"Charged Off\")]"
   ]
  },
  {
   "cell_type": "markdown",
   "metadata": {},
   "source": [
    "## Lets Do Univariate and segmented univariate analysis\n",
    "<ul>\n",
    "    <li> Lets cut the data in the form of buckets</li>\n",
    "    <li> We will use pd.cut function available</li>\n",
    "</ul>"
   ]
  },
  {
   "cell_type": "code",
   "execution_count": 14,
   "metadata": {},
   "outputs": [
    {
     "name": "stdout",
     "output_type": "stream",
     "text": [
      "<class 'pandas.core.series.Series'>\n"
     ]
    },
    {
     "ename": "NameError",
     "evalue": "name 'getIntervalList' is not defined",
     "output_type": "error",
     "traceback": [
      "\u001b[1;31m---------------------------------------------------------------------------\u001b[0m",
      "\u001b[1;31mNameError\u001b[0m                                 Traceback (most recent call last)",
      "\u001b[1;32m<ipython-input-14-2a05177149da>\u001b[0m in \u001b[0;36m<module>\u001b[1;34m\u001b[0m\n\u001b[0;32m      2\u001b[0m \u001b[0mprint\u001b[0m\u001b[1;33m(\u001b[0m\u001b[0mtype\u001b[0m\u001b[1;33m(\u001b[0m\u001b[0mloan_by_loan_amnt\u001b[0m\u001b[1;33m)\u001b[0m\u001b[1;33m)\u001b[0m\u001b[1;33m\u001b[0m\u001b[1;33m\u001b[0m\u001b[0m\n\u001b[0;32m      3\u001b[0m \u001b[0mloan_by_loan_amnt\u001b[0m \u001b[1;33m=\u001b[0m \u001b[0mloan_by_loan_amnt\u001b[0m\u001b[1;33m.\u001b[0m\u001b[0munique\u001b[0m\u001b[1;33m(\u001b[0m\u001b[1;33m)\u001b[0m\u001b[1;33m\u001b[0m\u001b[1;33m\u001b[0m\u001b[0m\n\u001b[1;32m----> 4\u001b[1;33m \u001b[0msorted\u001b[0m\u001b[1;33m(\u001b[0m\u001b[0mgetIntervalList\u001b[0m\u001b[1;33m(\u001b[0m\u001b[0mloan_by_loan_amnt\u001b[0m\u001b[1;33m)\u001b[0m\u001b[1;33m)\u001b[0m\u001b[1;33m\u001b[0m\u001b[1;33m\u001b[0m\u001b[0m\n\u001b[0m",
      "\u001b[1;31mNameError\u001b[0m: name 'getIntervalList' is not defined"
     ]
    }
   ],
   "source": [
    "loan_by_loan_amnt = pd.cut(df_loan['loan_amnt'],bins=7, duplicates='drop')\n",
    "print(type(loan_by_loan_amnt))\n",
    "loan_by_loan_amnt = loan_by_loan_amnt.unique()\n",
    "sorted(getIntervalList(loan_by_loan_amnt))"
   ]
  },
  {
   "cell_type": "markdown",
   "metadata": {},
   "source": [
    "## We will divide columns into buckets\n",
    "\n",
    "### We will plot the percentage of defaulters based on the buckets\n",
    "\n",
    "### If the percentage defaulters is higher in the bucket more riskier the bucket is. "
   ]
  },
  {
   "cell_type": "code",
   "execution_count": 18,
   "metadata": {},
   "outputs": [
    {
     "data": {
      "text/plain": [
       "35000"
      ]
     },
     "execution_count": 18,
     "metadata": {},
     "output_type": "execute_result"
    }
   ],
   "source": [
    "df_loan['loan_amnt'].max()"
   ]
  },
  {
   "cell_type": "markdown",
   "metadata": {},
   "source": [
    "### We Define function that generates the following\n",
    "\n",
    "<ol>\n",
    "    <li>Generate interval in friendly format i.e float values It contains lower limit and upperlimit of bucket</li>\n",
    "    <li>We calculate the percentage of defaulters(charged off) in the buckets </li>\n",
    "    <li>Make x- labels in friendly format for of ranges (only used for numeric ranged buckets)</li>\n",
    "</ol>"
   ]
  },
  {
   "cell_type": "code",
   "execution_count": 69,
   "metadata": {},
   "outputs": [],
   "source": [
    "############################################################################################################################\n",
    "# This function converts limit item to list\n",
    "# This is used to reuse as isin operator for pandas dataframe\n",
    "# We will use it for plotting\n",
    "###########################################################################################################################\n",
    "\n",
    "def getIntervalList(array):\n",
    "    limitList = []\n",
    "    limitVal = []\n",
    "    for element in array:\n",
    "        element = str(element)\n",
    "        element = element.replace('(','')\n",
    "        element = element.replace(')','')\n",
    "        element = element.replace('[','')\n",
    "        element = element.replace(']','')\n",
    "        element = element.split(',')\n",
    "        for e in element:\n",
    "            e = float(e)\n",
    "            limitVal.append(e)\n",
    "        limitList.append(limitVal)\n",
    "       # print(limitVal)\n",
    "        limitVal = []\n",
    "    return limitList\n",
    "\n",
    "############################################################################################################################\n",
    "# As we have got the buckets in the previous step and now we will compute the percentage of Charged off in each bucket\n",
    "# Parameters \n",
    "#1. Data Frame\n",
    "#2. Target Column in the data frame ------------------> In short bucketing column We will generate bucket of the columns\n",
    "#3. Bin size ----------> Number of bins\n",
    "#4. type of bucket ---> \"categorical\" if categorical varible(no range here) \"numeric\" if you need buckets based on range \n",
    "\n",
    "# Return \n",
    "#Series of the percentages of chargedoff people in that bucket\n",
    "############################################################################################################################\n",
    "\n",
    "def percentChargedOffInBucket(df,columns,bin_len,type_of_bucket):\n",
    "    percentageValues = []\n",
    "    \n",
    "    \n",
    "    if type_of_bucket == 'numeric':\n",
    "    ## Then generate a numeric ranges\n",
    "        buckets = pd.cut(df_loan[columns],bins=bin_len, duplicates='drop') ## Cut operation to generate buckets\n",
    "        buckets = buckets.unique() ## unique buckets\n",
    "        buckets = sorted(getIntervalList(buckets)) ### Convert interval to float for comparison operation\n",
    "        ##shifted\n",
    "        for bucket in buckets:\n",
    "            print(bucket,'\\n',df[(df[columns] > bucket[0]) & (df[columns]<= bucket[1])].loc[:,'loan_status'].value_counts()) ## Interval is closed in the right side\n",
    "            try:\n",
    "                totalDefaultersInBucket = df[(df[columns] > bucket[0]) & (df[columns]<= bucket[1])].loc[:,'loan_status'].value_counts().loc['Charged Off'] \n",
    "            except KeyError:\n",
    "                totalDefaultersInBucket = 0\n",
    "            bucketSize = df[(df[columns] > bucket[0]) & (df[columns]<= bucket[1])].loc[:,'loan_status'].value_counts().sum()\n",
    "            \n",
    "            #Percentage of defaulter in a bucket is 100 *(Defaulters count In That Bucket)/(BucketSize) Thats what is done in next step\n",
    "            percenageOfChargedOff = 100 * totalDefaultersInBucket/bucketSize\n",
    "            percentageValues.append(round(percenageOfChargedOff,2))\n",
    "    \n",
    "    \n",
    "    \n",
    "    elif type_of_bucket =='categorical':\n",
    "    ##  Then we generate categorical buckets\n",
    "        buckets = df[columns].unique()\n",
    "        buckets = sorted(buckets) ### Convert interval to float for comparison operation\n",
    "        for bucket in buckets:\n",
    "        #print(bucket,'\\n',df[(df[columns] > bucket[0]) & (df[columns]<= bucket[1])].loc[:,'loan_status'].value_counts()) ## Interval is closed in the right side\n",
    "            try:\n",
    "                totalDefaultersInBucket = df[(df[columns] == bucket)].loc[:,'loan_status'].value_counts().loc['Charged Off'] \n",
    "            except KeyError: \n",
    "                #print(totalDefaultersInBucket)\n",
    "                totalDefaultersInBucket = 0\n",
    "            bucketSize = df[(df[columns] == bucket)].loc[:,'loan_status'].value_counts().sum()\n",
    "            #print(\"pass----\")\n",
    "            #Percentage of defaulter in a bucket is 100 *(Defaulters count In That Bucket)/(BucketSize) Thats what is done in next step\n",
    "            percenageOfChargedOff = 100 * totalDefaultersInBucket/bucketSize\n",
    "            percentageValues.append(round(percenageOfChargedOff,2))\n",
    "    \n",
    "    \n",
    "    else:\n",
    "        return \"Invalid Bucket Type\"\n",
    "    \n",
    "    \n",
    "    \n",
    "        \n",
    "        #Percentage of defaulter in a bucket is 100 *(Defaulters count In That Bucket)/(BucketSize) Thats what is done in next step\n",
    "        \n",
    "    return percentageValues\n",
    "\n",
    "############################################################################################################################\n",
    "# Converting ranged bin to string\n",
    "# params the\n",
    "# 1. bucket array\n",
    "# 2. divisor -----> scale (ex 10s 1000s ,1000s etc ) x-scale\n",
    "# To be used when buckets are numeric ranges only and not categorical\n",
    "\n",
    "############################################################################################################################\n",
    "\n",
    "def generate_xAxis(xArray,divisor): ## Use it only when you want the ranged Bin to string\n",
    "    res = []\n",
    "    for element in xArray:\n",
    "        res.append(str(abs(math.floor(element[0]/divisor))) + \" to \" + str(math.floor(element[1]/divisor)))\n",
    "    return res\n",
    "\n"
   ]
  },
  {
   "cell_type": "code",
   "execution_count": 70,
   "metadata": {},
   "outputs": [
    {
     "name": "stdout",
     "output_type": "stream",
     "text": [
      "<class 'pandas.core.series.Series'>\n",
      "[465.5, 5428.571] \n",
      " Fully Paid     8418\n",
      "Charged Off    1354\n",
      "Current         104\n",
      "Name: loan_status, dtype: int64\n",
      "[5428.571, 10357.143] \n",
      " Fully Paid     10980\n",
      "Charged Off     1616\n",
      "Current          152\n",
      "Name: loan_status, dtype: int64\n",
      "[10357.143, 15285.714] \n",
      " Fully Paid     6620\n",
      "Charged Off    1064\n",
      "Current         306\n",
      "Name: loan_status, dtype: int64\n",
      "[15285.714, 20214.286] \n",
      " Fully Paid     3538\n",
      "Charged Off     731\n",
      "Current         239\n",
      "Name: loan_status, dtype: int64\n",
      "[20214.286, 25142.857] \n",
      " Fully Paid     2282\n",
      "Charged Off     539\n",
      "Current         161\n",
      "Name: loan_status, dtype: int64\n",
      "[25142.857, 30071.429] \n",
      " Fully Paid     557\n",
      "Charged Off    143\n",
      "Current         85\n",
      "Name: loan_status, dtype: int64\n",
      "[30071.429, 35000.0] \n",
      " Fully Paid     555\n",
      "Charged Off    180\n",
      "Current         93\n",
      "Name: loan_status, dtype: int64\n"
     ]
    },
    {
     "data": {
      "text/plain": [
       "Text(0, 0.5, 'Percentage of defaulters')"
      ]
     },
     "execution_count": 70,
     "metadata": {},
     "output_type": "execute_result"
    },
    {
     "data": {
      "image/png": "[encoded data removed]",
      "text/plain": [
       "<Figure size 432x288 with 1 Axes>"
      ]
     },
     "metadata": {
      "needs_background": "light"
     },
     "output_type": "display_data"
    }
   ],
   "source": [
    "##Loan amount buckets for x - axis\n",
    "loan_amnt = pd.cut(df_loan['loan_amnt'],bins=7, duplicates='drop')\n",
    "print(type(loan_amnt))\n",
    "\n",
    "\n",
    "##Remove Duplicates in buckets\n",
    "loan_amnt = loan_amnt.unique()\n",
    "\n",
    "\n",
    "\n",
    "#### Plotting the percentage of defaulters with respect to loan amount\n",
    "y = percentChargedOffInBucket(df_loan,'loan_amnt',7,\"numeric\")\n",
    "x = generate_xAxis(sorted(getIntervalList(loan_amnt)),1000)\n",
    "#plt.figure(figsize=(16,9))\n",
    "plot = sns.barplot(x=x,y=y)\n",
    "plt.xticks(rotation = 90)\n",
    "plt.xlabel(\"Loan Amount Applied in Thousands\",fontsize=16)\n",
    "plt.ylabel(\"Percentage of defaulters\",fontsize=16)"
   ]
  },
  {
   "cell_type": "markdown",
   "metadata": {},
   "source": [
    "<b><u>Observations:</u></b>\n",
    "\n",
    "As the loan amount applied increases the chances of the customer being charged off increases , hence we need to be cautious before granting the loan. The person has to bee screened carefully before approving the loan"
   ]
  },
  {
   "cell_type": "code",
   "execution_count": 71,
   "metadata": {},
   "outputs": [
    {
     "name": "stdout",
     "output_type": "stream",
     "text": [
      "<class 'pandas.core.series.Series'>\n",
      "[5.401, 9.254] \n",
      " Fully Paid     9385\n",
      "Charged Off     600\n",
      "Current          42\n",
      "Name: loan_status, dtype: int64\n",
      "[9.254, 13.088] \n",
      " Fully Paid     12393\n",
      "Charged Off     1856\n",
      "Current          383\n",
      "Name: loan_status, dtype: int64\n",
      "[13.088, 16.922] \n",
      " Fully Paid     8704\n",
      "Charged Off    2066\n",
      "Current         338\n",
      "Name: loan_status, dtype: int64\n",
      "[16.922, 20.756] \n",
      " Fully Paid     2184\n",
      "Charged Off     907\n",
      "Current         306\n",
      "Name: loan_status, dtype: int64\n",
      "[20.756, 24.59] \n",
      " Fully Paid     284\n",
      "Charged Off    198\n",
      "Current         71\n",
      "Name: loan_status, dtype: int64\n"
     ]
    },
    {
     "data": {
      "text/plain": [
       "Text(0, 0.5, 'Percentage of defaulters')"
      ]
     },
     "execution_count": 71,
     "metadata": {},
     "output_type": "execute_result"
    },
    {
     "data": {
      "image/png": "[encoded data removed]",
      "text/plain": [
       "<Figure size 432x288 with 1 Axes>"
      ]
     },
     "metadata": {
      "needs_background": "light"
     },
     "output_type": "display_data"
    }
   ],
   "source": [
    "##interest rate buckets for x - axis\n",
    "int_rate = pd.cut(df_loan['int_rate'],bins=5, duplicates='drop')\n",
    "print(type(int_rate))\n",
    "\n",
    "\n",
    "##Remove Duplicates in buckets\n",
    "int_rate = int_rate.unique()\n",
    "\n",
    "y = percentChargedOffInBucket(df_loan,'int_rate',5,\"numeric\")\n",
    "x = generate_xAxis(sorted(getIntervalList(int_rate)),1)\n",
    "#plt.figure(figsize=(16,9))\n",
    "plot = sns.barplot(x=x,y=y)\n",
    "plt.xticks(rotation = 90)\n",
    "plt.xlabel(\"Interest \",fontsize=16)\n",
    "plt.ylabel(\"Percentage of defaulters\",fontsize=16)"
   ]
  },
  {
   "cell_type": "markdown",
   "metadata": {},
   "source": [
    "<b><u>Observations:</u></b> <br/>\n",
    "\n",
    " As the interest rate increases the chances for the loan applicant to repay the loan decreases and as a result the chances of him/her being a defaulter increases"
   ]
  },
  {
   "cell_type": "markdown",
   "metadata": {},
   "source": [
    "## Lets view the distribution of open_acc with loan status \n",
    "\n",
    "<ol><li>More the number of credit lines more the chnaces of default</li>\n",
    "    <li> The person is supposed to have lower credit line so that he/she is not a defaulter</li>\n",
    "</ol>\n",
    "\n",
    "\n",
    "\n",
    "### We will do box plot and distribution plot"
   ]
  },
  {
   "cell_type": "code",
   "execution_count": 72,
   "metadata": {},
   "outputs": [
    {
     "data": {
      "image/png": "[encoded data removed]",
      "text/plain": [
       "<Figure size 1152x504 with 2 Axes>"
      ]
     },
     "metadata": {
      "needs_background": "light"
     },
     "output_type": "display_data"
    }
   ],
   "source": [
    "plt.figure(figsize=(16,7))\n",
    "plt.subplot(1,2,1)\n",
    "boxplot = sns.boxplot(data= df_loan,x=\"loan_status\",y='open_acc')\n",
    "plt.subplot(1,2,2)\n",
    "distplot = sns.distplot(df_loan[\"open_acc\"])"
   ]
  },
  {
   "cell_type": "markdown",
   "metadata": {},
   "source": [
    "Let us observe the percentage of defaulters with respect to accounts\n",
    "\n",
    "1. Lets have 8 buckets of size 5 each - x-axis\n",
    "2. Let the y axis be the percentage of defaulters present in the bucket\n",
    "3. As the number of open credit lines is 44 we will divide the buckets of 11 each"
   ]
  },
  {
   "cell_type": "code",
   "execution_count": 73,
   "metadata": {},
   "outputs": [
    {
     "name": "stdout",
     "output_type": "stream",
     "text": [
      "<class 'pandas.core.series.Series'>\n",
      "[1.958, 12.5] \n",
      " Fully Paid     26128\n",
      "Charged Off     4486\n",
      "Current          870\n",
      "Name: loan_status, dtype: int64\n",
      "[12.5, 23.0] \n",
      " Fully Paid     6607\n",
      "Charged Off    1091\n",
      "Current         260\n",
      "Name: loan_status, dtype: int64\n",
      "[23.0, 33.5] \n",
      " Fully Paid     202\n",
      "Charged Off     47\n",
      "Current         10\n",
      "Name: loan_status, dtype: int64\n",
      "[33.5, 44.0] \n",
      " Fully Paid     13\n",
      "Charged Off     3\n",
      "Name: loan_status, dtype: int64\n"
     ]
    },
    {
     "data": {
      "text/plain": [
       "Text(0, 0.5, 'Percentage of defaulters')"
      ]
     },
     "execution_count": 73,
     "metadata": {},
     "output_type": "execute_result"
    },
    {
     "data": {
      "image/png": "[encoded data removed]",
      "text/plain": [
       "<Figure size 432x288 with 1 Axes>"
      ]
     },
     "metadata": {
      "needs_background": "light"
     },
     "output_type": "display_data"
    }
   ],
   "source": [
    "##Credit line buckets for x - axis\n",
    "open_acc = pd.cut(df_loan['open_acc'],bins=4, duplicates='drop')\n",
    "print(type(open_acc))\n",
    "\n",
    "##Remove Duplicates in buckets\n",
    "open_acc = open_acc.unique()\n",
    "\n",
    "y = percentChargedOffInBucket(df_loan,'open_acc',4,\"numeric\")\n",
    "x= generate_xAxis(sorted(getIntervalList(open_acc)),1)\n",
    "#plt.figure(figsize=(16,9))\n",
    "plot = sns.barplot(x=x,y=y)\n",
    "plt.xticks(rotation = 90)\n",
    "plt.xlabel(\"Number of open credit Lines \",fontsize=16)\n",
    "plt.ylabel(\"Percentage of defaulters\",fontsize=16)"
   ]
  },
  {
   "cell_type": "markdown",
   "metadata": {},
   "source": [
    "<b><u>Observations:</u></b> <br/>\n",
    "We can observe here that the maximum percentage of defaulters are present in the range of 33 to  44 and the second highest percentage of defaulters are present between 23 and 33 open credit lines.<br>\n",
    "Hence we can conclude that more the number of credit lines more the chances of person being defaulter"
   ]
  },
  {
   "cell_type": "markdown",
   "metadata": {},
   "source": [
    "### Now let us analyse the behavior of defaulters with respect to credit lines\n",
    " Let us plot the distribution of the revolving balance"
   ]
  },
  {
   "cell_type": "code",
   "execution_count": 74,
   "metadata": {},
   "outputs": [
    {
     "data": {
      "text/plain": [
       "<matplotlib.axes._subplots.AxesSubplot at 0x1e2da07cd90>"
      ]
     },
     "execution_count": 74,
     "metadata": {},
     "output_type": "execute_result"
    },
    {
     "data": {
      "image/png": "[encoded data removed]",
      "text/plain": [
       "<Figure size 1152x504 with 2 Axes>"
      ]
     },
     "metadata": {
      "needs_background": "light"
     },
     "output_type": "display_data"
    }
   ],
   "source": [
    "plt.figure(figsize=(16,7))\n",
    "plt.subplot(1,2,1)\n",
    "sns.distplot(df_loan['revol_bal'])\n",
    "plt.subplot(1,2,2)\n",
    "sns.boxplot(data=df_loan,x=\"loan_status\",y=\"revol_bal\")"
   ]
  },
  {
   "cell_type": "markdown",
   "metadata": {},
   "source": [
    "##Credit line buckets for x - axis\n",
    "revol_bal = pd.cut(df_loan['revol_bal'],bins=8, duplicates='drop')\n",
    "print(type(revol_bal))\n",
    "\n",
    "##Remove Duplicates in buckets\n",
    "revol_bal = revol_bal.unique()\n",
    "\n",
    "y = percentChargedOffInBucket(df_loan,'revol_bal',8,\"numeric\")\n",
    "x= generate_xAxis(sorted(getIntervalList(revol_bal)),1)\n",
    "#plt.figure(figsize=(16,9))\n",
    "plot = sns.barplot(x=x,y=y)\n",
    "plt.xticks(rotation = 90)\n",
    "plt.xlabel(\"Revolving Balance \",fontsize=16)\n",
    "plt.ylabel(\"Percentage of defaulters\",fontsize=16)"
   ]
  },
  {
   "cell_type": "markdown",
   "metadata": {},
   "source": [
    "## Now let us examine the % of defaulters with respect to the loan purpose\n",
    "\n",
    "1. Let us obeseve which loan purposes is vulnerable to defaulters\n",
    "2. The loan purposes where defaulter percentage is higher have to be examined carefully before giving loans\n"
   ]
  },
  {
   "cell_type": "code",
   "execution_count": 95,
   "metadata": {},
   "outputs": [
    {
     "name": "stdout",
     "output_type": "stream",
     "text": [
      "<class 'pandas.core.series.Series'>\n"
     ]
    },
    {
     "data": {
      "text/plain": [
       "Text(0, 0.5, 'Percentage of defaulters')"
      ]
     },
     "execution_count": 95,
     "metadata": {},
     "output_type": "execute_result"
    },
    {
     "data": {
      "image/png": "[encoded data removed]",
      "text/plain": [
       "<Figure size 1152x648 with 1 Axes>"
      ]
     },
     "metadata": {
      "needs_background": "light"
     },
     "output_type": "display_data"
    }
   ],
   "source": [
    "##Credit line buckets for x - axis\n",
    "revol_bal = pd.cut(df_loan['revol_bal'],bins=8, duplicates='drop')\n",
    "print(type(revol_bal))\n",
    "\n",
    "##Remove Duplicates in buckets\n",
    "revol_bal = revol_bal.unique()\n",
    "\n",
    "y = percentChargedOffInBucket(df_loan,'purpose',14,\"categorical\")\n",
    "x= sorted(df_loan['purpose'].unique())\n",
    "len(x)\n",
    "plt.figure(figsize=(16,9))\n",
    "plot = sns.barplot(x=x,y=y)\n",
    "plt.xticks(rotation = 90)\n",
    "plt.xlabel(\"Purpose\",fontsize=16)\n",
    "plt.ylabel(\"Percentage of defaulters\",fontsize=16)"
   ]
  },
  {
   "cell_type": "markdown",
   "metadata": {},
   "source": [
    "<u>Obeservations:</u><br/>\n",
    "The loans which were applied for small business seems to be most dangerous since the % of defaulters were high.\n",
    "This could be because of unvialble business model"
   ]
  },
  {
   "cell_type": "markdown",
   "metadata": {},
   "source": [
    "### Lets observe the influence of Home ownership on the loan status\n",
    "\n",
    "\n",
    "1. X axis will have the data of the Home ownership\n",
    "2. Y axis will have the percentage of defaulters\n"
   ]
  },
  {
   "cell_type": "code",
   "execution_count": 94,
   "metadata": {},
   "outputs": [
    {
     "data": {
      "text/plain": [
       "Text(0, 0.5, 'Percentage of defaulters')"
      ]
     },
     "execution_count": 94,
     "metadata": {},
     "output_type": "execute_result"
    },
    {
     "data": {
      "image/png": "[encoded data removed]",
      "text/plain": [
       "<Figure size 432x288 with 1 Axes>"
      ]
     },
     "metadata": {
      "needs_background": "light"
     },
     "output_type": "display_data"
    }
   ],
   "source": [
    "\n",
    "##Remove Duplicates in buckets\n",
    "#home_ownership = home_ownership.unique()\n",
    "\n",
    "y = percentChargedOffInBucket(df_loan,'home_ownership',5,\"categorical\")\n",
    "x= sorted(df_loan['home_ownership'].unique())\n",
    "len(x)\n",
    "#plt.figure(figsize=(16,9))\n",
    "plot = sns.barplot(x=x,y=y)\n",
    "plt.xticks(rotation = 90)\n",
    "plt.xlabel(\"Home Ownership\",fontsize=16)\n",
    "plt.ylabel(\"Percentage of defaulters\",fontsize=16)\n"
   ]
  },
  {
   "cell_type": "markdown",
   "metadata": {},
   "source": [
    "### Obeservation\n",
    "\n",
    "1. The people who have home ownership as others have more % of defaulters\n",
    "2. The term others seem be be suspicious\n",
    "3. These people might have incorrectly shown their address while applying for the loan "
   ]
  },
  {
   "cell_type": "markdown",
   "metadata": {},
   "source": [
    "## Lets check the distribution of years of employment"
   ]
  },
  {
   "cell_type": "code",
   "execution_count": 77,
   "metadata": {},
   "outputs": [
    {
     "data": {
      "text/plain": [
       "<matplotlib.axes._subplots.AxesSubplot at 0x1e2e06a0370>"
      ]
     },
     "execution_count": 77,
     "metadata": {},
     "output_type": "execute_result"
    },
    {
     "data": {
      "image/png": "[encoded data removed]",
      "text/plain": [
       "<Figure size 720x432 with 2 Axes>"
      ]
     },
     "metadata": {
      "needs_background": "light"
     },
     "output_type": "display_data"
    }
   ],
   "source": [
    "plt.figure(figsize=(10,6))\n",
    "plt.subplot(1,2,1)\n",
    "sns.distplot(df_loan['emp_length'])\n",
    "plt.subplot(1,2,2)\n",
    "sns.boxplot(df_loan['emp_length'])"
   ]
  },
  {
   "cell_type": "markdown",
   "metadata": {},
   "source": [
    "### Lets analyse the influence of years of employment om the loan status\n",
    "\n",
    "lets plot the percentage of defaulters with respect to employment years "
   ]
  },
  {
   "cell_type": "code",
   "execution_count": 90,
   "metadata": {},
   "outputs": [
    {
     "name": "stderr",
     "output_type": "stream",
     "text": [
      "<ipython-input-69-d88e9addc4fd>:75: RuntimeWarning: invalid value encountered in longlong_scalars\n",
      "  percenageOfChargedOff = 100 * totalDefaultersInBucket/bucketSize\n"
     ]
    },
    {
     "data": {
      "text/plain": [
       "Text(0, 0.5, 'Percentage of defaulters')"
      ]
     },
     "execution_count": 90,
     "metadata": {},
     "output_type": "execute_result"
    },
    {
     "data": {
      "image/png": "[encoded data removed]",
      "text/plain": [
       "<Figure size 720x432 with 1 Axes>"
      ]
     },
     "metadata": {
      "needs_background": "light"
     },
     "output_type": "display_data"
    }
   ],
   "source": [
    "y = percentChargedOffInBucket(df_loan,'emp_length',10,\"categorical\")\n",
    "x= sorted(df_loan['emp_length'].unique())\n",
    "len(x)\n",
    "plt.figure(figsize=(10,6))\n",
    "plot = sns.barplot(x=x,y=y)\n",
    "plt.xticks(rotation = 90)\n",
    "plt.xlabel(\"Yers of Experience\",fontsize=16)\n",
    "plt.ylabel(\"Percentage of defaulters\",fontsize=16)"
   ]
  },
  {
   "cell_type": "code",
   "execution_count": 79,
   "metadata": {},
   "outputs": [
    {
     "data": {
      "text/plain": [
       "6000000.0"
      ]
     },
     "execution_count": 79,
     "metadata": {},
     "output_type": "execute_result"
    }
   ],
   "source": [
    "df_loan['annual_inc'].max()"
   ]
  },
  {
   "cell_type": "markdown",
   "metadata": {},
   "source": [
    "## Lets examine the influence of annual income on the defaulters\n",
    "\n"
   ]
  },
  {
   "cell_type": "code",
   "execution_count": 80,
   "metadata": {},
   "outputs": [
    {
     "name": "stdout",
     "output_type": "stream",
     "text": [
      "<class 'pandas.core.series.Series'>\n",
      "[-1996.0, 203866.667] \n",
      " Fully Paid     32461\n",
      "Charged Off     5570\n",
      "Current         1124\n",
      "Name: loan_status, dtype: int64\n",
      "[203866.667, 403733.333] \n",
      " Fully Paid     411\n",
      "Charged Off     45\n",
      "Current         14\n",
      "Name: loan_status, dtype: int64\n",
      "[403733.333, 603600.0] \n",
      " Fully Paid     37\n",
      "Charged Off     5\n",
      "Current         1\n",
      "Name: loan_status, dtype: int64\n",
      "[603600.0, 803466.667] \n",
      " Fully Paid     21\n",
      "Charged Off     5\n",
      "Current         1\n",
      "Name: loan_status, dtype: int64\n",
      "[803466.667, 1003333.333] \n",
      " Fully Paid     7\n",
      "Charged Off    1\n",
      "Name: loan_status, dtype: int64\n",
      "[1003333.333, 1203200.0] \n",
      " Fully Paid    6\n",
      "Name: loan_status, dtype: int64\n",
      "[1203200.0, 1403066.667] \n",
      " Charged Off    1\n",
      "Fully Paid     1\n",
      "Name: loan_status, dtype: int64\n",
      "[1403066.667, 1602933.333] \n",
      " Fully Paid    1\n",
      "Name: loan_status, dtype: int64\n",
      "[1602933.333, 1802800.0] \n",
      " Fully Paid    1\n",
      "Name: loan_status, dtype: int64\n",
      "[1802800.0, 2002666.667] \n",
      " Fully Paid    1\n",
      "Name: loan_status, dtype: int64\n",
      "[2002666.667, 2202533.333] \n",
      " Fully Paid    1\n",
      "Name: loan_status, dtype: int64\n",
      "[3801466.667, 4001333.333] \n",
      " Fully Paid    1\n",
      "Name: loan_status, dtype: int64\n",
      "[5800133.333, 6000000.0] \n",
      " Fully Paid    1\n",
      "Name: loan_status, dtype: int64\n"
     ]
    },
    {
     "data": {
      "text/plain": [
       "Text(0, 0.5, 'Percentage of defaulters')"
      ]
     },
     "execution_count": 80,
     "metadata": {},
     "output_type": "execute_result"
    },
    {
     "data": {
      "image/png": "[encoded data removed]",
      "text/plain": [
       "<Figure size 1152x648 with 1 Axes>"
      ]
     },
     "metadata": {
      "needs_background": "light"
     },
     "output_type": "display_data"
    }
   ],
   "source": [
    "##Annual income bucktes\n",
    "annual_inc = pd.cut(df_loan['annual_inc'],bins=30)\n",
    "print(type(annual_inc))\n",
    "\n",
    "\n",
    "##Remove Duplicates in buckets\n",
    "annual_inc = annual_inc.unique()\n",
    "\n",
    "\n",
    "\n",
    "#### Plotting the percentage of defaulters with respect to loan amount\n",
    "y = percentChargedOffInBucket(df_loan,'annual_inc',30,\"numeric\")\n",
    "x = generate_xAxis(sorted(getIntervalList(annual_inc)),1000)\n",
    "plt.figure(figsize=(16,9))\n",
    "plot = sns.barplot(x=x,y=y)\n",
    "plt.xticks(rotation = 90)\n",
    "plt.xlabel(\"Income in Thousands\",fontsize=16)\n",
    "plt.ylabel(\"Percentage of defaulters\",fontsize=16)"
   ]
  },
  {
   "cell_type": "code",
   "execution_count": 81,
   "metadata": {},
   "outputs": [
    {
     "data": {
      "text/plain": [
       "Charged Off    1\n",
       "Fully Paid     1\n",
       "Name: loan_status, dtype: int64"
      ]
     },
     "execution_count": 81,
     "metadata": {},
     "output_type": "execute_result"
    }
   ],
   "source": [
    "df_loan[(df_loan['annual_inc']>=1203000) & (df_loan['annual_inc']<=1403000)].loan_status.value_counts()"
   ]
  },
  {
   "cell_type": "markdown",
   "metadata": {},
   "source": [
    "<b><u>Observations:</u></b><br>\n",
    "1. As per the observation the chances of a person defaulting increases with increase in annual income\n",
    "\n",
    "2. The bucket of income between 12,03,000 to 14,03,000 have two people once with one of them is defaulter and other is not a defaulter, hence the percentage of default becomes 50% { 1*100/(1+1) } \n",
    "\n",
    "3. Therefore we cannot directly conclude that people with High income are defaulters\n",
    "\n",
    "4. The ratio of loan applied to annual income would be ideal for further analysis, which we will do in next steps "
   ]
  },
  {
   "cell_type": "code",
   "execution_count": 82,
   "metadata": {},
   "outputs": [
    {
     "data": {
      "text/plain": [
       "<matplotlib.axes._subplots.AxesSubplot at 0x1e2e0833940>"
      ]
     },
     "execution_count": 82,
     "metadata": {},
     "output_type": "execute_result"
    },
    {
     "data": {
      "image/png": "[encoded data removed]",
      "text/plain": [
       "<Figure size 432x288 with 1 Axes>"
      ]
     },
     "metadata": {
      "needs_background": "light"
     },
     "output_type": "display_data"
    }
   ],
   "source": [
    "\n",
    "sns.countplot(df_loan['grade'])\n"
   ]
  },
  {
   "cell_type": "markdown",
   "metadata": {},
   "source": [
    "## Let us compare the results with public bankrupties \n",
    "\n",
    "#### We will check the past records of the customers\n"
   ]
  },
  {
   "cell_type": "code",
   "execution_count": 104,
   "metadata": {},
   "outputs": [
    {
     "name": "stderr",
     "output_type": "stream",
     "text": [
      "<ipython-input-69-d88e9addc4fd>:75: RuntimeWarning: invalid value encountered in longlong_scalars\n",
      "  percenageOfChargedOff = 100 * totalDefaultersInBucket/bucketSize\n"
     ]
    },
    {
     "data": {
      "text/plain": [
       "Text(0, 0.5, 'Percentage of defaulters')"
      ]
     },
     "execution_count": 104,
     "metadata": {},
     "output_type": "execute_result"
    },
    {
     "data": {
      "image/png": "[encoded data removed]",
      "text/plain": [
       "<Figure size 432x288 with 1 Axes>"
      ]
     },
     "metadata": {
      "needs_background": "light"
     },
     "output_type": "display_data"
    }
   ],
   "source": [
    "##\n",
    "y = percentChargedOffInBucket(df_loan,'pub_rec_bankruptcies',7,\"categorical\")\n",
    "x= sorted(df_loan['pub_rec_bankruptcies'].unique())\n",
    "len(x)\n",
    "#plt.figure(figsize=(10,6))\n",
    "plot = sns.barplot(x=x,y=y)\n",
    "plt.xticks(rotation = 90)\n",
    "plt.xlabel(\"Past records of bankrupties\",fontsize=16)\n",
    "plt.ylabel(\"Percentage of defaulters\",fontsize=16)"
   ]
  },
  {
   "cell_type": "markdown",
   "metadata": {},
   "source": [
    "<b><u>Observations:</u></b><br>\n",
    "More the number of past bankrupties the chances of the person being defaulter increases"
   ]
  },
  {
   "cell_type": "code",
   "execution_count": 86,
   "metadata": {},
   "outputs": [
    {
     "name": "stdout",
     "output_type": "stream",
     "text": [
      "['1 to 8%%', '8 to 16%%', '16 to 24%%', '24 to 33%%', '33 to 41%%', '41 to 49%%', '49 to 58%%', '58 to 66%%', '66 to 74%%', '74 to 83%%']\n"
     ]
    }
   ],
   "source": [
    "x = map(lambda a: a+'%',x)\n",
    "    \n",
    "print(list(x))"
   ]
  },
  {
   "cell_type": "code",
   "execution_count": 96,
   "metadata": {},
   "outputs": [
    {
     "data": {
      "text/plain": [
       "Text(0, 0.5, 'Percentage of defaulters')"
      ]
     },
     "execution_count": 96,
     "metadata": {},
     "output_type": "execute_result"
    },
    {
     "data": {
      "image/png": "[encoded data removed]",
      "text/plain": [
       "<Figure size 720x432 with 1 Axes>"
      ]
     },
     "metadata": {
      "needs_background": "light"
     },
     "output_type": "display_data"
    }
   ],
   "source": [
    "y = percentChargedOffInBucket(df_loan,'grade',7,\"categorical\")\n",
    "x= sorted(df_loan['grade'].unique())\n",
    "len(x)\n",
    "plt.figure(figsize=(10,6))\n",
    "plot = sns.barplot(x=x,y=y)\n",
    "plt.xticks(rotation = 90)\n",
    "plt.xlabel(\"Grade\",fontsize=16)\n",
    "plt.ylabel(\"Percentage of defaulters\",fontsize=16)"
   ]
  },
  {
   "cell_type": "markdown",
   "metadata": {},
   "source": []
  },
  {
   "cell_type": "code",
   "execution_count": 97,
   "metadata": {},
   "outputs": [],
   "source": [
    "df_loan['loan_to_income'] = 100*df_loan['loan_amnt']/df_loan['annual_inc']"
   ]
  },
  {
   "cell_type": "code",
   "execution_count": 98,
   "metadata": {},
   "outputs": [
    {
     "name": "stdout",
     "output_type": "stream",
     "text": [
      "<class 'pandas.core.series.Series'>\n",
      "[-0.00397, 8.371] \n",
      " Fully Paid     6759\n",
      "Charged Off     864\n",
      "Current          90\n",
      "Name: loan_status, dtype: int64\n",
      "[8.371, 16.663] \n",
      " Fully Paid     10554\n",
      "Charged Off     1397\n",
      "Current          217\n",
      "Name: loan_status, dtype: int64\n",
      "[16.663, 24.955] \n",
      " Fully Paid     7790\n",
      "Charged Off    1300\n",
      "Current         283\n",
      "Name: loan_status, dtype: int64\n",
      "[24.955, 33.247] \n",
      " Fully Paid     4269\n",
      "Charged Off     956\n",
      "Current         227\n",
      "Name: loan_status, dtype: int64\n",
      "[33.247, 41.539] \n",
      " Fully Paid     2244\n",
      "Charged Off     594\n",
      "Current         164\n",
      "Name: loan_status, dtype: int64\n",
      "[41.539, 49.832] \n",
      " Fully Paid     869\n",
      "Charged Off    301\n",
      "Current         84\n",
      "Name: loan_status, dtype: int64\n",
      "[49.832, 58.124] \n",
      " Fully Paid     357\n",
      "Charged Off    176\n",
      "Current         68\n",
      "Name: loan_status, dtype: int64\n",
      "[58.124, 66.416] \n",
      " Fully Paid     78\n",
      "Charged Off    28\n",
      "Current         6\n",
      "Name: loan_status, dtype: int64\n",
      "[66.416, 74.708] \n",
      " Fully Paid     23\n",
      "Charged Off     8\n",
      "Name: loan_status, dtype: int64\n",
      "[74.708, 83.0] \n",
      " Fully Paid     7\n",
      "Charged Off    3\n",
      "Current        1\n",
      "Name: loan_status, dtype: int64\n"
     ]
    },
    {
     "data": {
      "text/plain": [
       "Text(0, 0.5, 'Percentage of defaulters')"
      ]
     },
     "execution_count": 98,
     "metadata": {},
     "output_type": "execute_result"
    },
    {
     "data": {
      "image/png": "[encoded data removed]",
      "text/plain": [
       "<Figure size 1152x648 with 1 Axes>"
      ]
     },
     "metadata": {
      "needs_background": "light"
     },
     "output_type": "display_data"
    }
   ],
   "source": [
    "##Annual income bucktes\n",
    "annual_inc = pd.cut(df_loan['loan_to_income'],bins=10)\n",
    "print(type(annual_inc))\n",
    "\n",
    "\n",
    "##Remove Duplicates in buckets\n",
    "annual_inc = annual_inc.unique()\n",
    "\n",
    "\n",
    "\n",
    "#### Plotting the percentage of defaulters with respect to loan amount\n",
    "y = percentChargedOffInBucket(df_loan,'loan_to_income',10,\"numeric\")\n",
    "x = generate_xAxis(sorted(getIntervalList(annual_inc)),1)\n",
    "x = map(lambda a: a+'%',x)\n",
    "x = list(x)\n",
    "plt.figure(figsize=(16,9))\n",
    "plot = sns.barplot(x=x,y=y)\n",
    "plt.xticks(rotation = 90)\n",
    "plt.xlabel(\"Ratio of loan to annual income in %\",fontsize=16)\n",
    "plt.ylabel(\"Percentage of defaulters\",fontsize=16)"
   ]
  },
  {
   "cell_type": "markdown",
   "metadata": {},
   "source": [
    "### Observations\n",
    "\n",
    "1. As the <b>ratio of loan taken to annual income increases</b> the chances of person being charged off increases.\n",
    "2. It is always desirable to have annual income higher than the loan applied.\n",
    "3. Hence the <b>ratio of the loan applied to the annual income</b> has to be low \n",
    "4. Our observation indicates that when the loan is over 40% of the annual income. There is a higher chance of default"
   ]
  },
  {
   "cell_type": "markdown",
   "metadata": {},
   "source": [
    "### Ratio analysis and co relation analysis yet to be done\n",
    "\n",
    "### We will calculate the percentage of defaulters persent based on the ratio"
   ]
  },
  {
   "cell_type": "code",
   "execution_count": null,
   "metadata": {},
   "outputs": [],
   "source": []
  }
 ],
 "metadata": {
  "kernelspec": {
   "display_name": "Python 3",
   "language": "python",
   "name": "python3"
  },
  "language_info": {
   "codemirror_mode": {
    "name": "ipython",
    "version": 3
   },
   "file_extension": ".py",
   "mimetype": "text/x-python",
   "name": "python",
   "nbconvert_exporter": "python",
   "pygments_lexer": "ipython3",
   "version": "3.8.5"
  }
 },
 "nbformat": 4,
 "nbformat_minor": 4
}
